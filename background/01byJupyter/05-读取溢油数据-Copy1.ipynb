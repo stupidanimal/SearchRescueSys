{
 "cells": [
  {
   "cell_type": "code",
   "execution_count": 1,
   "metadata": {},
   "outputs": [],
   "source": [
    "import numpy as np\n",
    "import netCDF4 as nc\n",
    "import pandas as pd\n",
    "import numpy.ma as ma"
   ]
  },
  {
   "cell_type": "code",
   "execution_count": 2,
   "metadata": {},
   "outputs": [],
   "source": [
    "file_path='./data/sanjioil.nc'"
   ]
  },
  {
   "cell_type": "code",
   "execution_count": 3,
   "metadata": {},
   "outputs": [],
   "source": [
    "ds=nc.Dataset(file_path)"
   ]
  },
  {
   "cell_type": "code",
   "execution_count": 4,
   "metadata": {},
   "outputs": [
    {
     "data": {
      "text/plain": [
       "<class 'netCDF4._netCDF4.Dataset'>\n",
       "root group (NETCDF4 data model, file format HDF5):\n",
       "    Conventions: CF-1.6\n",
       "    standard_name_vocabulary: CF-1.6\n",
       "    featureType: trajectory\n",
       "    history: Created 2019-08-01 11:42:45.072000\n",
       "    source: Output from simulation with OpenDrift\n",
       "    model_url: https://github.com/OpenDrift/opendrift\n",
       "    opendrift_class: OpenOil\n",
       "    opendrift_module: opendrift.models.openoil\n",
       "    readers: ['E:\\\\project\\\\oilspill_rescue\\\\curr_wind\\\\curr0_test.nc', 'E:\\\\project\\\\oilspill_rescue\\\\curr_wind\\\\wind0_test.nc', 'basemap_landmask']\n",
       "    time_coverage_start: 2018-01-14 22:20:00\n",
       "    time_step_calculation: 0:30:00\n",
       "    time_step_output: 1:00:00\n",
       "    config_seed:oil_type: MEDIUM (brage)\n",
       "    config_seed:ocean_only: True\n",
       "    config_general:use_basemap_landmask: True\n",
       "    config_general:basemap_resolution: h\n",
       "    config_general:coastline_action: stranding\n",
       "    config_general:time_step_minutes: 60\n",
       "    config_general:time_step_output_minutes: None\n",
       "    config_drift:max_age_seconds: None\n",
       "    config_drift:scheme: runge-kutta\n",
       "    config_drift:stokes_drift: True\n",
       "    config_drift:current_uncertainty: 0.5\n",
       "    config_drift:current_uncertainty_uniform: 0.0\n",
       "    config_drift:wind_uncertainty: 1\n",
       "    config_drift:relative_wind: False\n",
       "    config_drift:lift_to_seafloor: True\n",
       "    config_drift:deactivate_north_of: None\n",
       "    config_drift:deactivate_south_of: None\n",
       "    config_drift:deactivate_east_of: None\n",
       "    config_drift:deactivate_west_of: None\n",
       "    config_drift:use_tabularised_stokes_drift: False\n",
       "    config_drift:tabularised_stokes_drift_fetch: 25000\n",
       "    config_processes:dispersion: True\n",
       "    config_processes:evaporation: True\n",
       "    config_processes:emulsification: True\n",
       "    config_processes:update_oilfilm_thickness: False\n",
       "    opendrift_version: 1.0.6\n",
       "    time_coverage_end: 2018-01-17 22:20:00\n",
       "    geospatial_lat_min: 0.0\n",
       "    geospatial_lat_max: 0.0\n",
       "    geospatial_lat_units: degrees_north\n",
       "    geospatial_lat_resolution: point\n",
       "    geospatial_lon_min: 0.0\n",
       "    geospatial_lon_max: 0.0\n",
       "    geospatial_lon_units: degrees_east\n",
       "    geospatial_lon_resolution: point\n",
       "    runtime: 0:00:14.547000\n",
       "    dimensions(sizes): trajectory(2958), time(73)\n",
       "    variables(dimensions): int32 \u001b[4mtrajectory\u001b[0m(trajectory), float64 \u001b[4mtime\u001b[0m(time), float32 \u001b[4mage_seconds\u001b[0m(trajectory,time), float32 \u001b[4minterfacial_area\u001b[0m(trajectory,time), float32 \u001b[4mmass_evaporated\u001b[0m(trajectory,time), float32 \u001b[4mwater_fraction\u001b[0m(trajectory,time), float32 \u001b[4my_wind\u001b[0m(trajectory,time), float32 \u001b[4msea_ice_area_fraction\u001b[0m(trajectory,time), float32 \u001b[4mdensity\u001b[0m(trajectory,time), float32 \u001b[4mlon\u001b[0m(trajectory,time), float32 \u001b[4moil_film_thickness\u001b[0m(trajectory,time), float32 \u001b[4mx_sea_water_velocity\u001b[0m(trajectory,time), float32 \u001b[4mbulltime\u001b[0m(trajectory,time), float32 \u001b[4mx_wind\u001b[0m(trajectory,time), float32 \u001b[4mage_emulsion_seconds\u001b[0m(trajectory,time), float32 \u001b[4msea_surface_wave_stokes_drift_y_velocity\u001b[0m(trajectory,time), int32 \u001b[4mstatus\u001b[0m(trajectory,time), float32 \u001b[4mviscosity\u001b[0m(trajectory,time), float32 \u001b[4msea_floor_depth_below_sea_level\u001b[0m(trajectory,time), float32 \u001b[4mlat\u001b[0m(trajectory,time), float32 \u001b[4mmass_dispersed\u001b[0m(trajectory,time), float32 \u001b[4mland_binary_mask\u001b[0m(trajectory,time), float32 \u001b[4msea_surface_wave_significant_height\u001b[0m(trajectory,time), float32 \u001b[4msea_water_temperature\u001b[0m(trajectory,time), float32 \u001b[4mmass_oil\u001b[0m(trajectory,time), float32 \u001b[4mage_exposure_seconds\u001b[0m(trajectory,time), float32 \u001b[4msea_surface_wave_stokes_drift_x_velocity\u001b[0m(trajectory,time), float32 \u001b[4my_sea_water_velocity\u001b[0m(trajectory,time), float32 \u001b[4mz\u001b[0m(trajectory,time), float32 \u001b[4mwind_drift_factor\u001b[0m(trajectory,time), float32 \u001b[4mfraction_evaporated\u001b[0m(trajectory,time)\n",
       "    groups: "
      ]
     },
     "execution_count": 4,
     "metadata": {},
     "output_type": "execute_result"
    }
   ],
   "source": [
    "ds"
   ]
  },
  {
   "cell_type": "code",
   "execution_count": 5,
   "metadata": {},
   "outputs": [
    {
     "data": {
      "text/plain": [
       "odict_keys(['trajectory', 'time', 'age_seconds', 'interfacial_area', 'mass_evaporated', 'water_fraction', 'y_wind', 'sea_ice_area_fraction', 'density', 'lon', 'oil_film_thickness', 'x_sea_water_velocity', 'bulltime', 'x_wind', 'age_emulsion_seconds', 'sea_surface_wave_stokes_drift_y_velocity', 'status', 'viscosity', 'sea_floor_depth_below_sea_level', 'lat', 'mass_dispersed', 'land_binary_mask', 'sea_surface_wave_significant_height', 'sea_water_temperature', 'mass_oil', 'age_exposure_seconds', 'sea_surface_wave_stokes_drift_x_velocity', 'y_sea_water_velocity', 'z', 'wind_drift_factor', 'fraction_evaporated'])"
      ]
     },
     "execution_count": 5,
     "metadata": {},
     "output_type": "execute_result"
    }
   ],
   "source": [
    "ds.variables.keys()"
   ]
  },
  {
   "cell_type": "code",
   "execution_count": 6,
   "metadata": {},
   "outputs": [
    {
     "data": {
      "text/plain": [
       "odict_keys(['trajectory', 'time'])"
      ]
     },
     "execution_count": 6,
     "metadata": {},
     "output_type": "execute_result"
    }
   ],
   "source": [
    "# 查看维度\n",
    "ds.dimensions.keys()"
   ]
  },
  {
   "cell_type": "markdown",
   "metadata": {},
   "source": [
    "只有两个维度，`trajectory`与`time`"
   ]
  },
  {
   "cell_type": "markdown",
   "metadata": {},
   "source": [
    "## 2 一些测试\n"
   ]
  },
  {
   "cell_type": "code",
   "execution_count": 7,
   "metadata": {},
   "outputs": [
    {
     "data": {
      "text/plain": [
       "<class 'netCDF4._netCDF4.Variable'>\n",
       "float32 density(trajectory, time)\n",
       "    coordinates: lat lon time\n",
       "    units: kg/m^3\n",
       "unlimited dimensions: \n",
       "current shape = (2958, 73)\n",
       "filling on, default _FillValue of 9.969209968386869e+36 used"
      ]
     },
     "execution_count": 7,
     "metadata": {},
     "output_type": "execute_result"
    }
   ],
   "source": [
    "ds['density']"
   ]
  },
  {
   "cell_type": "code",
   "execution_count": 8,
   "metadata": {},
   "outputs": [
    {
     "data": {
      "text/plain": [
       "masked"
      ]
     },
     "execution_count": 8,
     "metadata": {},
     "output_type": "execute_result"
    }
   ],
   "source": [
    "# 实际是 -- ，需要对 -- 进行处理\n",
    "ds['density'][21,0]"
   ]
  },
  {
   "cell_type": "code",
   "execution_count": 9,
   "metadata": {},
   "outputs": [
    {
     "data": {
      "text/plain": [
       "masked"
      ]
     },
     "execution_count": 9,
     "metadata": {},
     "output_type": "execute_result"
    }
   ],
   "source": [
    "ds['density'][21,0]==np.nan"
   ]
  },
  {
   "cell_type": "code",
   "execution_count": 10,
   "metadata": {},
   "outputs": [
    {
     "data": {
      "text/plain": [
       "netCDF4._netCDF4.Variable"
      ]
     },
     "execution_count": 10,
     "metadata": {},
     "output_type": "execute_result"
    }
   ],
   "source": [
    "type(ds['density'])"
   ]
  },
  {
   "cell_type": "code",
   "execution_count": 11,
   "metadata": {},
   "outputs": [
    {
     "data": {
      "text/plain": [
       "numpy.ma.core.MaskedConstant"
      ]
     },
     "execution_count": 11,
     "metadata": {},
     "output_type": "execute_result"
    }
   ],
   "source": [
    "type(ds['density'][21,0])"
   ]
  },
  {
   "cell_type": "code",
   "execution_count": 12,
   "metadata": {},
   "outputs": [
    {
     "data": {
      "text/plain": [
       "True"
      ]
     },
     "execution_count": 12,
     "metadata": {},
     "output_type": "execute_result"
    }
   ],
   "source": [
    "ds['density'][21,0].mask==True"
   ]
  },
  {
   "cell_type": "code",
   "execution_count": 13,
   "metadata": {},
   "outputs": [
    {
     "data": {
      "text/plain": [
       "masked_array(data=880.,\n",
       "             mask=False,\n",
       "       fill_value=1e+20,\n",
       "            dtype=float32)"
      ]
     },
     "execution_count": 13,
     "metadata": {},
     "output_type": "execute_result"
    }
   ],
   "source": [
    "ds['density'][20,0]"
   ]
  },
  {
   "cell_type": "code",
   "execution_count": 10,
   "metadata": {},
   "outputs": [
    {
     "data": {
      "text/plain": [
       "numpy.ma.core.MaskedConstant"
      ]
     },
     "execution_count": 10,
     "metadata": {},
     "output_type": "execute_result"
    }
   ],
   "source": [
    "type(ds['density'][21,0])"
   ]
  },
  {
   "cell_type": "code",
   "execution_count": 14,
   "metadata": {},
   "outputs": [
    {
     "data": {
      "text/plain": [
       "masked_array(data=[880.0, 880.0, 880.0, 880.0, 880.0, 880.0, 880.0, 880.0,\n",
       "                   880.0, 880.0, 880.0, 880.0, 880.0, 880.0, 880.0, 880.0,\n",
       "                   880.0, 880.0, 880.0, 880.0, 880.0, --],\n",
       "             mask=[False, False, False, False, False, False, False, False,\n",
       "                   False, False, False, False, False, False, False, False,\n",
       "                   False, False, False, False, False,  True],\n",
       "       fill_value=9.96921e+36,\n",
       "            dtype=float32)"
      ]
     },
     "execution_count": 14,
     "metadata": {},
     "output_type": "execute_result"
    }
   ],
   "source": [
    "ds['density'][:22,0]"
   ]
  },
  {
   "cell_type": "code",
   "execution_count": 15,
   "metadata": {},
   "outputs": [
    {
     "data": {
      "text/plain": [
       "masked"
      ]
     },
     "execution_count": 15,
     "metadata": {},
     "output_type": "execute_result"
    }
   ],
   "source": [
    "ds['x_wind'][371,2]"
   ]
  },
  {
   "cell_type": "code",
   "execution_count": 16,
   "metadata": {},
   "outputs": [
    {
     "data": {
      "text/plain": [
       "masked_array(\n",
       "  data=[[-5.44127893447876, -6.335221767425537, --, ..., --, --, --],\n",
       "        [-6.289512634277344, -7.076473712921143, -4.9082512855529785,\n",
       "         ..., -3.5429582595825195, -3.578788995742798,\n",
       "         -3.1711130142211914],\n",
       "        [-3.986665725708008, -5.01703405380249, --, ..., --, --, --],\n",
       "        ...,\n",
       "        [--, --, --, ..., --, --, -2.898705244064331],\n",
       "        [--, --, --, ..., --, --, -3.9861390590667725],\n",
       "        [--, --, --, ..., --, --, -1.0630155801773071]],\n",
       "  mask=[[False, False,  True, ...,  True,  True,  True],\n",
       "        [False, False, False, ..., False, False, False],\n",
       "        [False, False,  True, ...,  True,  True,  True],\n",
       "        ...,\n",
       "        [ True,  True,  True, ...,  True,  True, False],\n",
       "        [ True,  True,  True, ...,  True,  True, False],\n",
       "        [ True,  True,  True, ...,  True,  True, False]],\n",
       "  fill_value=9.96921e+36,\n",
       "  dtype=float32)"
      ]
     },
     "execution_count": 16,
     "metadata": {},
     "output_type": "execute_result"
    }
   ],
   "source": [
    "ds['x_wind'][:]"
   ]
  },
  {
   "cell_type": "code",
   "execution_count": null,
   "metadata": {},
   "outputs": [],
   "source": []
  }
 ],
 "metadata": {
  "kernelspec": {
   "display_name": "Python 3",
   "language": "python",
   "name": "python3"
  },
  "language_info": {
   "codemirror_mode": {
    "name": "ipython",
    "version": 3
   },
   "file_extension": ".py",
   "mimetype": "text/x-python",
   "name": "python",
   "nbconvert_exporter": "python",
   "pygments_lexer": "ipython3",
   "version": "3.7.1"
  }
 },
 "nbformat": 4,
 "nbformat_minor": 2
}
