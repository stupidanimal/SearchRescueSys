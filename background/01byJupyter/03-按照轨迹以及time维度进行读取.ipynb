{
 "cells": [
  {
   "cell_type": "code",
   "execution_count": 1,
   "metadata": {},
   "outputs": [],
   "source": [
    "import numpy as np\n",
    "import netCDF4 as nc\n",
    "import pandas as pd"
   ]
  },
  {
   "cell_type": "code",
   "execution_count": 2,
   "metadata": {},
   "outputs": [],
   "source": [
    "file_path='./qz_ty1_100p.nc'"
   ]
  },
  {
   "cell_type": "code",
   "execution_count": 3,
   "metadata": {},
   "outputs": [],
   "source": [
    "ds=nc.Dataset(file_path)"
   ]
  },
  {
   "cell_type": "code",
   "execution_count": 4,
   "metadata": {},
   "outputs": [
    {
     "data": {
      "text/plain": [
       "<class 'netCDF4._netCDF4.Dataset'>\n",
       "root group (NETCDF4 data model, file format HDF5):\n",
       "    Conventions: CF-1.6\n",
       "    standard_name_vocabulary: CF-1.6\n",
       "    featureType: trajectory\n",
       "    history: Created 2019-03-22 16:30:39.491557\n",
       "    source: Output from simulation with OpenDrift\n",
       "    model_url: https://github.com/OpenDrift/opendrift\n",
       "    opendrift_class: Leeway\n",
       "    opendrift_module: opendrift.models.leeway\n",
       "    readers: odict_keys(['E:\\\\project\\\\oilspill_rescue\\\\rescue\\\\data\\\\curr\\\\ecs_curr_20160722_opdr.nc', 'E:\\\\project\\\\oilspill_rescue\\\\rescue\\\\data\\\\wind\\\\nmefc_2016072112_opdr.nc', 'basemap_landmask'])\n",
       "    time_coverage_start: 2016-07-21 21:00:00\n",
       "    time_step_calculation: 0:30:00\n",
       "    time_step_output: 0:30:00\n",
       "    config_seed:object_type: Person-in-water (PIW), unknown state (mean values)\n",
       "    config_seed:jibeProbability: 0.04\n",
       "    config_seed:ocean_only: True\n",
       "    config_general:use_basemap_landmask: True\n",
       "    config_general:basemap_resolution: h\n",
       "    config_general:coastline_action: stranding\n",
       "    config_general:time_step_minutes: 10\n",
       "    config_general:time_step_output_minutes: 60\n",
       "    config_drift:max_age_seconds: None\n",
       "    config_drift:scheme: euler\n",
       "    config_drift:stokes_drift: True\n",
       "    config_drift:current_uncertainty: 0.0\n",
       "    config_drift:current_uncertainty_uniform: 0.0\n",
       "    config_drift:wind_uncertainty: 0.0\n",
       "    config_drift:relative_wind: False\n",
       "    config_drift:lift_to_seafloor: True\n",
       "    config_drift:deactivate_north_of: None\n",
       "    config_drift:deactivate_south_of: None\n",
       "    config_drift:deactivate_east_of: None\n",
       "    config_drift:deactivate_west_of: None\n",
       "    config_drift:use_tabularised_stokes_drift: False\n",
       "    config_drift:tabularised_stokes_drift_fetch: 25000\n",
       "    opendrift_version: 1.0.6\n",
       "    time_coverage_end: 2016-07-22 09:00:00\n",
       "    geospatial_lat_min: 0.0\n",
       "    geospatial_lat_max: 0.0\n",
       "    geospatial_lat_units: degrees_north\n",
       "    geospatial_lat_resolution: point\n",
       "    geospatial_lon_min: 0.0\n",
       "    geospatial_lon_max: 0.0\n",
       "    geospatial_lon_units: degrees_east\n",
       "    geospatial_lon_resolution: point\n",
       "    runtime: 0:00:09.327774\n",
       "    dimensions(sizes): trajectory(100), time(25)\n",
       "    variables(dimensions): int32 \u001b[4mtrajectory\u001b[0m(trajectory), float64 \u001b[4mtime\u001b[0m(time), int32 \u001b[4mstatus\u001b[0m(trajectory,time), float32 \u001b[4mage_seconds\u001b[0m(trajectory,time), float32 \u001b[4mlon\u001b[0m(trajectory,time), float32 \u001b[4mlat\u001b[0m(trajectory,time), float32 \u001b[4mz\u001b[0m(trajectory,time), int16 \u001b[4mobjectType\u001b[0m(trajectory,time), int16 \u001b[4morientation\u001b[0m(trajectory,time), float32 \u001b[4mjibeProbability\u001b[0m(trajectory,time), float32 \u001b[4mdownwindSlope\u001b[0m(trajectory,time), float32 \u001b[4mcrosswindSlope\u001b[0m(trajectory,time), float32 \u001b[4mdownwindOffset\u001b[0m(trajectory,time), float32 \u001b[4mcrosswindOffset\u001b[0m(trajectory,time), float32 \u001b[4mdownwindEps\u001b[0m(trajectory,time), float32 \u001b[4mcrosswindEps\u001b[0m(trajectory,time), float32 \u001b[4mx_wind\u001b[0m(trajectory,time), float32 \u001b[4my_wind\u001b[0m(trajectory,time), float32 \u001b[4mx_sea_water_velocity\u001b[0m(trajectory,time), float32 \u001b[4my_sea_water_velocity\u001b[0m(trajectory,time), float32 \u001b[4mland_binary_mask\u001b[0m(trajectory,time)\n",
       "    groups: "
      ]
     },
     "execution_count": 4,
     "metadata": {},
     "output_type": "execute_result"
    }
   ],
   "source": [
    "ds"
   ]
  },
  {
   "cell_type": "code",
   "execution_count": 5,
   "metadata": {},
   "outputs": [
    {
     "data": {
      "text/plain": [
       "odict_keys(['trajectory', 'time', 'status', 'age_seconds', 'lon', 'lat', 'z', 'objectType', 'orientation', 'jibeProbability', 'downwindSlope', 'crosswindSlope', 'downwindOffset', 'crosswindOffset', 'downwindEps', 'crosswindEps', 'x_wind', 'y_wind', 'x_sea_water_velocity', 'y_sea_water_velocity', 'land_binary_mask'])"
      ]
     },
     "execution_count": 5,
     "metadata": {},
     "output_type": "execute_result"
    }
   ],
   "source": [
    "ds.variables.keys()"
   ]
  },
  {
   "cell_type": "markdown",
   "metadata": {},
   "source": [
    "获取轨迹"
   ]
  },
  {
   "cell_type": "code",
   "execution_count": 25,
   "metadata": {},
   "outputs": [
    {
     "data": {
      "text/plain": [
       "100"
      ]
     },
     "execution_count": 25,
     "metadata": {},
     "output_type": "execute_result"
    }
   ],
   "source": [
    "len(ds['trajectory'][:])"
   ]
  },
  {
   "cell_type": "code",
   "execution_count": 26,
   "metadata": {},
   "outputs": [
    {
     "data": {
      "text/plain": [
       "masked_array(data=[  1,   2,   3,   4,   5,   6,   7,   8,   9,  10,  11,\n",
       "                    12,  13,  14,  15,  16,  17,  18,  19,  20,  21,  22,\n",
       "                    23,  24,  25,  26,  27,  28,  29,  30,  31,  32,  33,\n",
       "                    34,  35,  36,  37,  38,  39,  40,  41,  42,  43,  44,\n",
       "                    45,  46,  47,  48,  49,  50,  51,  52,  53,  54,  55,\n",
       "                    56,  57,  58,  59,  60,  61,  62,  63,  64,  65,  66,\n",
       "                    67,  68,  69,  70,  71,  72,  73,  74,  75,  76,  77,\n",
       "                    78,  79,  80,  81,  82,  83,  84,  85,  86,  87,  88,\n",
       "                    89,  90,  91,  92,  93,  94,  95,  96,  97,  98,  99,\n",
       "                   100],\n",
       "             mask=False,\n",
       "       fill_value=999999)"
      ]
     },
     "execution_count": 26,
     "metadata": {},
     "output_type": "execute_result"
    }
   ],
   "source": [
    "ds['trajectory'][:]"
   ]
  },
  {
   "cell_type": "code",
   "execution_count": 29,
   "metadata": {},
   "outputs": [
    {
     "data": {
      "text/plain": [
       "2"
      ]
     },
     "execution_count": 29,
     "metadata": {},
     "output_type": "execute_result"
    }
   ],
   "source": [
    "# 找到其中一个\n",
    "ds['trajectory'][:][1]"
   ]
  },
  {
   "cell_type": "code",
   "execution_count": 27,
   "metadata": {},
   "outputs": [
    {
     "data": {
      "text/plain": [
       "25"
      ]
     },
     "execution_count": 27,
     "metadata": {},
     "output_type": "execute_result"
    }
   ],
   "source": [
    "len(ds['time'][:])"
   ]
  },
  {
   "cell_type": "code",
   "execution_count": 28,
   "metadata": {},
   "outputs": [
    {
     "data": {
      "text/plain": [
       "masked_array(data=[1.4691348e+09, 1.4691366e+09, 1.4691384e+09,\n",
       "                   1.4691402e+09, 1.4691420e+09, 1.4691438e+09,\n",
       "                   1.4691456e+09, 1.4691474e+09, 1.4691492e+09,\n",
       "                   1.4691510e+09, 1.4691528e+09, 1.4691546e+09,\n",
       "                   1.4691564e+09, 1.4691582e+09, 1.4691600e+09,\n",
       "                   1.4691618e+09, 1.4691636e+09, 1.4691654e+09,\n",
       "                   1.4691672e+09, 1.4691690e+09, 1.4691708e+09,\n",
       "                   1.4691726e+09, 1.4691744e+09, 1.4691762e+09,\n",
       "                   1.4691780e+09],\n",
       "             mask=False,\n",
       "       fill_value=1e+20)"
      ]
     },
     "execution_count": 28,
     "metadata": {},
     "output_type": "execute_result"
    }
   ],
   "source": [
    "ds['time'][:]"
   ]
  },
  {
   "cell_type": "code",
   "execution_count": 6,
   "metadata": {},
   "outputs": [
    {
     "data": {
      "text/plain": [
       "<class 'netCDF4._netCDF4.Variable'>\n",
       "float32 lat(trajectory, time)\n",
       "    coordinates: lat lon time\n",
       "    units: degrees_north\n",
       "    standard_name: latitude\n",
       "    long_name: latitude\n",
       "unlimited dimensions: \n",
       "current shape = (100, 25)\n",
       "filling on, default _FillValue of 9.969209968386869e+36 used"
      ]
     },
     "execution_count": 6,
     "metadata": {},
     "output_type": "execute_result"
    }
   ],
   "source": [
    "ds['lat']"
   ]
  },
  {
   "cell_type": "code",
   "execution_count": 7,
   "metadata": {},
   "outputs": [
    {
     "data": {
      "text/plain": [
       "<class 'netCDF4._netCDF4.Variable'>\n",
       "float32 lon(trajectory, time)\n",
       "    coordinates: lat lon time\n",
       "    units: degrees_east\n",
       "    standard_name: longitude\n",
       "    long_name: longitude\n",
       "unlimited dimensions: \n",
       "current shape = (100, 25)\n",
       "filling on, default _FillValue of 9.969209968386869e+36 used"
      ]
     },
     "execution_count": 7,
     "metadata": {},
     "output_type": "execute_result"
    }
   ],
   "source": [
    "ds['lon']"
   ]
  },
  {
   "cell_type": "code",
   "execution_count": 8,
   "metadata": {},
   "outputs": [
    {
     "data": {
      "text/plain": [
       "<class 'netCDF4._netCDF4.Variable'>\n",
       "float32 x_wind(trajectory, time)\n",
       "    coordinates: lat lon time\n",
       "unlimited dimensions: \n",
       "current shape = (100, 25)\n",
       "filling on, default _FillValue of 9.969209968386869e+36 used"
      ]
     },
     "execution_count": 8,
     "metadata": {},
     "output_type": "execute_result"
    }
   ],
   "source": [
    "ds['x_wind']"
   ]
  },
  {
   "cell_type": "markdown",
   "metadata": {},
   "source": [
    "---"
   ]
  },
  {
   "cell_type": "code",
   "execution_count": 31,
   "metadata": {},
   "outputs": [
    {
     "data": {
      "text/plain": [
       "(100, 25)"
      ]
     },
     "execution_count": 31,
     "metadata": {},
     "output_type": "execute_result"
    }
   ],
   "source": [
    "ds['x_wind'][:].shape"
   ]
  },
  {
   "cell_type": "code",
   "execution_count": 32,
   "metadata": {},
   "outputs": [
    {
     "data": {
      "text/plain": [
       "masked_array(data=[4.9943113 , 4.819668  , 4.643057  , 4.4523664 ,\n",
       "                   4.2689314 , 4.0722084 , 3.8735173 , 3.636588  ,\n",
       "                   3.4052265 , 2.9808044 , 2.5597134 , 2.3360996 ,\n",
       "                   2.0964293 , 1.695421  , 1.2825478 , 1.0027671 ,\n",
       "                   0.7237536 , 0.84759426, 0.97972023, 1.099313  ,\n",
       "                   1.22127   , 1.1062148 , 0.98705584, 0.9541023 ,\n",
       "                   0.9541023 ],\n",
       "             mask=False,\n",
       "       fill_value=1e+20,\n",
       "            dtype=float32)"
      ]
     },
     "execution_count": 32,
     "metadata": {},
     "output_type": "execute_result"
    }
   ],
   "source": [
    "ds['x_wind'][:][0]"
   ]
  },
  {
   "cell_type": "code",
   "execution_count": 33,
   "metadata": {},
   "outputs": [
    {
     "data": {
      "text/plain": [
       "masked_array(data=[4.9943113 , 4.819668  , 4.643057  , 4.4523664 ,\n",
       "                   4.2689314 , 4.0722084 , 3.8735173 , 3.636588  ,\n",
       "                   3.4052265 , 2.9808044 , 2.5597134 , 2.3360996 ,\n",
       "                   2.0964293 , 1.695421  , 1.2825478 , 1.0027671 ,\n",
       "                   0.7237536 , 0.84759426, 0.97972023, 1.099313  ,\n",
       "                   1.22127   , 1.1062148 , 0.98705584, 0.9541023 ,\n",
       "                   0.9541023 ],\n",
       "             mask=False,\n",
       "       fill_value=1e+20,\n",
       "            dtype=float32)"
      ]
     },
     "execution_count": 33,
     "metadata": {},
     "output_type": "execute_result"
    }
   ],
   "source": [
    "ds['x_wind'][0]"
   ]
  },
  {
   "cell_type": "code",
   "execution_count": 7,
   "metadata": {},
   "outputs": [
    {
     "data": {
      "text/plain": [
       "numpy.ma.core.MaskedArray"
      ]
     },
     "execution_count": 7,
     "metadata": {},
     "output_type": "execute_result"
    }
   ],
   "source": [
    "type(ds['x_wind'][:][0])"
   ]
  },
  {
   "cell_type": "code",
   "execution_count": 9,
   "metadata": {},
   "outputs": [
    {
     "data": {
      "text/plain": [
       "masked_array(\n",
       "  data=[[24.735289, 24.735617, 24.73707 , ..., 24.861162, 24.861761,\n",
       "         24.86279 ],\n",
       "        [24.735289, 24.733362, 24.732582, ..., 24.816586, 24.816639,\n",
       "         24.81734 ],\n",
       "        [24.735306, 24.737488, 24.739895, ..., 24.861301, 24.862146,\n",
       "         24.863653],\n",
       "        ...,\n",
       "        [24.735304, 24.735275, 24.736374, ..., 24.846336, 24.846636,\n",
       "         24.847513],\n",
       "        [24.735285, 24.7345  , 24.734793, ..., 24.800596, 24.799423,\n",
       "         24.798845],\n",
       "        [24.735304, 24.733631, 24.733139, ..., 24.851328, 24.852661,\n",
       "         24.854525]],\n",
       "  mask=False,\n",
       "  fill_value=1e+20,\n",
       "  dtype=float32)"
      ]
     },
     "execution_count": 9,
     "metadata": {},
     "output_type": "execute_result"
    }
   ],
   "source": [
    "ds['lat'][:]"
   ]
  },
  {
   "cell_type": "code",
   "execution_count": 10,
   "metadata": {},
   "outputs": [
    {
     "data": {
      "text/plain": [
       "masked_array(\n",
       "  data=[[118.9177  , 118.92442 , 118.93194 , ..., 119.060196, 119.06761 ,\n",
       "         119.07646 ],\n",
       "        [118.917694, 118.92318 , 118.92949 , ..., 119.044304, 119.051895,\n",
       "         119.06089 ],\n",
       "        [118.9177  , 118.92177 , 118.927155, ..., 119.00148 , 119.00466 ,\n",
       "         119.00876 ],\n",
       "        ...,\n",
       "        [118.917694, 118.9231  , 118.92931 , ..., 119.031006, 119.03726 ,\n",
       "         119.044815],\n",
       "        [118.91771 , 118.91946 , 118.92205 , ..., 118.97067 , 118.97608 ,\n",
       "         118.98284 ],\n",
       "        [118.917694, 118.925995, 118.935104, ..., 119.08705 , 119.09725 ,\n",
       "         119.109024]],\n",
       "  mask=False,\n",
       "  fill_value=1e+20,\n",
       "  dtype=float32)"
      ]
     },
     "execution_count": 10,
     "metadata": {},
     "output_type": "execute_result"
    }
   ],
   "source": [
    "ds['lon'][:]"
   ]
  },
  {
   "cell_type": "code",
   "execution_count": 12,
   "metadata": {},
   "outputs": [
    {
     "data": {
      "text/plain": [
       "1469134800.0"
      ]
     },
     "execution_count": 12,
     "metadata": {},
     "output_type": "execute_result"
    }
   ],
   "source": [
    "ds['time'][:][0]"
   ]
  },
  {
   "cell_type": "code",
   "execution_count": 22,
   "metadata": {},
   "outputs": [
    {
     "data": {
      "text/plain": [
       "masked_array(\n",
       "  data=[[4.9943113 , 4.819668  , 4.643057  , ..., 0.98705584, 0.9541023 ,\n",
       "         0.9541023 ],\n",
       "        [4.994295  , 4.822786  , 4.64817   , ..., 1.0875015 , 1.0371913 ,\n",
       "         1.0371913 ],\n",
       "        [4.994263  , 4.809621  , 4.627662  , ..., 1.0217285 , 0.98069644,\n",
       "         0.98069644],\n",
       "        ...,\n",
       "        [4.994252  , 4.817853  , 4.639524  , ..., 1.032025  , 0.98337185,\n",
       "         0.98337185],\n",
       "        [4.994338  , 4.8123884 , 4.628939  , ..., 1.1794664 , 1.1307616 ,\n",
       "         1.1307616 ],\n",
       "        [4.994252  , 4.8278384 , 4.6578417 , ..., 1.0006    , 1.003469  ,\n",
       "         1.003469  ]],\n",
       "  mask=False,\n",
       "  fill_value=1e+20,\n",
       "  dtype=float32)"
      ]
     },
     "execution_count": 22,
     "metadata": {},
     "output_type": "execute_result"
    }
   ],
   "source": [
    "ds['x_wind'][:]"
   ]
  },
  {
   "cell_type": "code",
   "execution_count": 20,
   "metadata": {},
   "outputs": [
    {
     "data": {
      "text/plain": [
       "masked_array(data=[4.9943113 , 4.819668  , 4.643057  , 4.4523664 ,\n",
       "                   4.2689314 , 4.0722084 , 3.8735173 , 3.636588  ,\n",
       "                   3.4052265 , 2.9808044 , 2.5597134 , 2.3360996 ,\n",
       "                   2.0964293 , 1.695421  , 1.2825478 , 1.0027671 ,\n",
       "                   0.7237536 , 0.84759426, 0.97972023, 1.099313  ,\n",
       "                   1.22127   , 1.1062148 , 0.98705584, 0.9541023 ,\n",
       "                   0.9541023 ],\n",
       "             mask=False,\n",
       "       fill_value=1e+20,\n",
       "            dtype=float32)"
      ]
     },
     "execution_count": 20,
     "metadata": {},
     "output_type": "execute_result"
    }
   ],
   "source": [
    "ds['x_wind'][:][0]"
   ]
  },
  {
   "cell_type": "code",
   "execution_count": 21,
   "metadata": {},
   "outputs": [
    {
     "data": {
      "text/plain": [
       "masked_array(data=[4.994295 , 4.822786 , 4.64817  , 4.4606676, 4.2798095,\n",
       "                   4.090003 , 3.8988128, 3.6627917, 3.431748 , 3.0126443,\n",
       "                   2.5912645, 2.376686 , 2.1493173, 1.7629353, 1.367547 ,\n",
       "                   1.0965215, 0.8244733, 0.9346679, 1.0528136, 1.1598122,\n",
       "                   1.2659687, 1.1801863, 1.0875015, 1.0371913, 1.0371913],\n",
       "             mask=False,\n",
       "       fill_value=1e+20,\n",
       "            dtype=float32)"
      ]
     },
     "execution_count": 21,
     "metadata": {},
     "output_type": "execute_result"
    }
   ],
   "source": [
    "ds['x_wind'][:][1]"
   ]
  },
  {
   "cell_type": "code",
   "execution_count": 17,
   "metadata": {},
   "outputs": [
    {
     "data": {
      "text/plain": [
       "masked_array(data=4.822786,\n",
       "             mask=False,\n",
       "       fill_value=1e+20,\n",
       "            dtype=float32)"
      ]
     },
     "execution_count": 17,
     "metadata": {},
     "output_type": "execute_result"
    }
   ],
   "source": [
    "ds['x_wind'][1,1]"
   ]
  },
  {
   "cell_type": "code",
   "execution_count": 40,
   "metadata": {},
   "outputs": [
    {
     "name": "stdout",
     "output_type": "stream",
     "text": [
      "trajectory\n",
      "<class 'netCDF4._netCDF4.Dimension'>: name = 'trajectory', size = 100\n",
      "\n",
      "time\n",
      "<class 'netCDF4._netCDF4.Dimension'>: name = 'time', size = 25\n",
      "\n"
     ]
    }
   ],
   "source": [
    "# 尝试遍历两个维度\n",
    "for temp in ds.dimensions.values():\n",
    "    print(temp.name)\n",
    "    print(temp)"
   ]
  },
  {
   "cell_type": "code",
   "execution_count": 37,
   "metadata": {},
   "outputs": [
    {
     "name": "stdout",
     "output_type": "stream",
     "text": [
      "trajectory\n",
      "time\n"
     ]
    }
   ],
   "source": [
    "for temp in ds.dimensions:\n",
    "    print(temp)"
   ]
  },
  {
   "cell_type": "code",
   "execution_count": null,
   "metadata": {},
   "outputs": [],
   "source": [
    "trajectory_len=ds.dimensions.values()"
   ]
  },
  {
   "cell_type": "markdown",
   "metadata": {},
   "source": [
    "循环遍历读取数值"
   ]
  },
  {
   "cell_type": "code",
   "execution_count": 43,
   "metadata": {},
   "outputs": [
    {
     "data": {
      "text/plain": [
       "odict_values([<class 'netCDF4._netCDF4.Dimension'>: name = 'trajectory', size = 100\n",
       ", <class 'netCDF4._netCDF4.Dimension'>: name = 'time', size = 25\n",
       "])"
      ]
     },
     "execution_count": 43,
     "metadata": {},
     "output_type": "execute_result"
    }
   ],
   "source": [
    "dict_dimensions={}\n",
    "ds.dimensions.values()"
   ]
  },
  {
   "cell_type": "code",
   "execution_count": 45,
   "metadata": {},
   "outputs": [],
   "source": [
    "# 复制给一个字典\n",
    "for index,temp in enumerate(ds.dimensions.values()):\n",
    "    dict_dimensions[temp.name]=temp"
   ]
  },
  {
   "cell_type": "code",
   "execution_count": 46,
   "metadata": {},
   "outputs": [
    {
     "data": {
      "text/plain": [
       "{'trajectory': <class 'netCDF4._netCDF4.Dimension'>: name = 'trajectory', size = 100,\n",
       " 'time': <class 'netCDF4._netCDF4.Dimension'>: name = 'time', size = 25}"
      ]
     },
     "execution_count": 46,
     "metadata": {},
     "output_type": "execute_result"
    }
   ],
   "source": [
    "dict_dimensions"
   ]
  },
  {
   "cell_type": "code",
   "execution_count": 47,
   "metadata": {},
   "outputs": [
    {
     "name": "stdout",
     "output_type": "stream",
     "text": [
      "0\n",
      "1\n",
      "2\n",
      "3\n",
      "4\n",
      "5\n",
      "6\n",
      "7\n",
      "8\n",
      "9\n",
      "10\n",
      "11\n",
      "12\n",
      "13\n",
      "14\n",
      "15\n",
      "16\n",
      "17\n",
      "18\n",
      "19\n",
      "20\n",
      "21\n",
      "22\n",
      "23\n",
      "24\n",
      "25\n",
      "26\n",
      "27\n",
      "28\n",
      "29\n",
      "30\n",
      "31\n",
      "32\n",
      "33\n",
      "34\n",
      "35\n",
      "36\n",
      "37\n",
      "38\n",
      "39\n",
      "40\n",
      "41\n",
      "42\n",
      "43\n",
      "44\n",
      "45\n",
      "46\n",
      "47\n",
      "48\n",
      "49\n",
      "50\n",
      "51\n",
      "52\n",
      "53\n",
      "54\n",
      "55\n",
      "56\n",
      "57\n",
      "58\n",
      "59\n",
      "60\n",
      "61\n",
      "62\n",
      "63\n",
      "64\n",
      "65\n",
      "66\n",
      "67\n",
      "68\n",
      "69\n",
      "70\n",
      "71\n",
      "72\n",
      "73\n",
      "74\n",
      "75\n",
      "76\n",
      "77\n",
      "78\n",
      "79\n",
      "80\n",
      "81\n",
      "82\n",
      "83\n",
      "84\n",
      "85\n",
      "86\n",
      "87\n",
      "88\n",
      "89\n",
      "90\n",
      "91\n",
      "92\n",
      "93\n",
      "94\n",
      "95\n",
      "96\n",
      "97\n",
      "98\n",
      "99\n"
     ]
    }
   ],
   "source": [
    "for trajectory_temp in range(dict_dimensions['trajectory'].size):\n",
    "    for \n",
    "    print(trajectory_temp)"
   ]
  },
  {
   "cell_type": "code",
   "execution_count": null,
   "metadata": {},
   "outputs": [],
   "source": []
  }
 ],
 "metadata": {
  "kernelspec": {
   "display_name": "Python 3",
   "language": "python",
   "name": "python3"
  },
  "language_info": {
   "codemirror_mode": {
    "name": "ipython",
    "version": 3
   },
   "file_extension": ".py",
   "mimetype": "text/x-python",
   "name": "python",
   "nbconvert_exporter": "python",
   "pygments_lexer": "ipython3",
   "version": "3.7.3"
  }
 },
 "nbformat": 4,
 "nbformat_minor": 2
}
