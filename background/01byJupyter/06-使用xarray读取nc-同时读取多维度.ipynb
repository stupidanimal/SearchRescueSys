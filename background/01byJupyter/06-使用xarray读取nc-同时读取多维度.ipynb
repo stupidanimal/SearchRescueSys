{
 "cells": [
  {
   "cell_type": "code",
   "execution_count": 11,
   "metadata": {},
   "outputs": [],
   "source": [
    "import numpy as np\n",
    "import netCDF4 as nc\n",
    "import pandas as pd\n",
    "import numpy.ma as ma"
   ]
  },
  {
   "cell_type": "code",
   "execution_count": 12,
   "metadata": {},
   "outputs": [],
   "source": [
    "import matplotlib as mpl\n",
    "import matplotlib.pyplot as plt"
   ]
  },
  {
   "cell_type": "code",
   "execution_count": 13,
   "metadata": {},
   "outputs": [],
   "source": [
    "import xarray as xar"
   ]
  },
  {
   "cell_type": "code",
   "execution_count": 14,
   "metadata": {},
   "outputs": [],
   "source": [
    "file_path='./data/sanjioil.nc'"
   ]
  },
  {
   "cell_type": "code",
   "execution_count": 15,
   "metadata": {},
   "outputs": [],
   "source": [
    "ds=nc.Dataset(file_path)"
   ]
  },
  {
   "cell_type": "code",
   "execution_count": 16,
   "metadata": {},
   "outputs": [],
   "source": [
    "ds_xr=xar.open_dataset(file_path)"
   ]
  },
  {
   "cell_type": "code",
   "execution_count": 17,
   "metadata": {},
   "outputs": [
    {
     "data": {
      "text/plain": [
       "Frozen(SortedKeysDict({'trajectory': 2958, 'time': 73}))"
      ]
     },
     "execution_count": 17,
     "metadata": {},
     "output_type": "execute_result"
    }
   ],
   "source": [
    "ds_xr.dims"
   ]
  },
  {
   "cell_type": "code",
   "execution_count": 19,
   "metadata": {},
   "outputs": [
    {
     "data": {
      "text/plain": [
       "Data variables:\n",
       "    age_seconds                               (trajectory, time) float32 ...\n",
       "    interfacial_area                          (trajectory, time) float32 ...\n",
       "    mass_evaporated                           (trajectory, time) float32 ...\n",
       "    water_fraction                            (trajectory, time) float32 ...\n",
       "    y_wind                                    (trajectory, time) float32 ...\n",
       "    sea_ice_area_fraction                     (trajectory, time) float32 ...\n",
       "    density                                   (trajectory, time) float32 ...\n",
       "    oil_film_thickness                        (trajectory, time) float32 ...\n",
       "    x_sea_water_velocity                      (trajectory, time) float32 ...\n",
       "    bulltime                                  (trajectory, time) float32 ...\n",
       "    x_wind                                    (trajectory, time) float32 ...\n",
       "    age_emulsion_seconds                      (trajectory, time) float32 ...\n",
       "    sea_surface_wave_stokes_drift_y_velocity  (trajectory, time) float32 ...\n",
       "    status                                    (trajectory, time) int32 ...\n",
       "    viscosity                                 (trajectory, time) float32 ...\n",
       "    sea_floor_depth_below_sea_level           (trajectory, time) float32 ...\n",
       "    mass_dispersed                            (trajectory, time) float32 ...\n",
       "    land_binary_mask                          (trajectory, time) float32 ...\n",
       "    sea_surface_wave_significant_height       (trajectory, time) float32 ...\n",
       "    sea_water_temperature                     (trajectory, time) float32 ...\n",
       "    mass_oil                                  (trajectory, time) float32 ...\n",
       "    age_exposure_seconds                      (trajectory, time) float32 ...\n",
       "    sea_surface_wave_stokes_drift_x_velocity  (trajectory, time) float32 ...\n",
       "    y_sea_water_velocity                      (trajectory, time) float32 ...\n",
       "    z                                         (trajectory, time) float32 ...\n",
       "    wind_drift_factor                         (trajectory, time) float32 ...\n",
       "    fraction_evaporated                       (trajectory, time) float32 ..."
      ]
     },
     "execution_count": 19,
     "metadata": {},
     "output_type": "execute_result"
    }
   ],
   "source": [
    "ds_xr.data_vars"
   ]
  },
  {
   "cell_type": "code",
   "execution_count": 18,
   "metadata": {},
   "outputs": [
    {
     "data": {
      "text/plain": [
       "Coordinates:\n",
       "  * trajectory  (trajectory) int32 1 2 3 4 5 6 ... 2953 2954 2955 2956 2957 2958\n",
       "  * time        (time) datetime64[ns] 2018-01-14T22:20:00 ... 2018-01-17T22:20:00\n",
       "    lon         (trajectory, time) float32 ...\n",
       "    lat         (trajectory, time) float32 ..."
      ]
     },
     "execution_count": 18,
     "metadata": {},
     "output_type": "execute_result"
    }
   ],
   "source": [
    "ds_xr.coords"
   ]
  },
  {
   "cell_type": "markdown",
   "metadata": {},
   "source": [
    "## 获取`几个指定维度的`的`DataArray`  \n",
    "如下可知：\n",
    "    `mass_oil`有2958个值，该物理量有两个维度，分别为`trajectory`,`time`"
   ]
  },
  {
   "cell_type": "code",
   "execution_count": 29,
   "metadata": {},
   "outputs": [
    {
     "data": {
      "text/html": [
       "<pre>&lt;xarray.DataArray &#x27;x_wind&#x27; (trajectory: 2958)&gt;\n",
       "array([-6.335222e+00, -7.076474e+00, -5.017034e+00, ...,  9.969210e+36,\n",
       "        9.969210e+36,  9.969210e+36], dtype=float32)\n",
       "Coordinates:\n",
       "  * trajectory  (trajectory) int32 1 2 3 4 5 6 ... 2953 2954 2955 2956 2957 2958\n",
       "    time        datetime64[ns] 2018-01-14T23:20:00\n",
       "    lon         (trajectory) float32 ...\n",
       "    lat         (trajectory) float32 ...</pre>"
      ],
      "text/plain": [
       "<xarray.DataArray 'x_wind' (trajectory: 2958)>\n",
       "array([-6.335222e+00, -7.076474e+00, -5.017034e+00, ...,  9.969210e+36,\n",
       "        9.969210e+36,  9.969210e+36], dtype=float32)\n",
       "Coordinates:\n",
       "  * trajectory  (trajectory) int32 1 2 3 4 5 6 ... 2953 2954 2955 2956 2957 2958\n",
       "    time        datetime64[ns] 2018-01-14T23:20:00\n",
       "    lon         (trajectory) float32 ...\n",
       "    lat         (trajectory) float32 ..."
      ]
     },
     "execution_count": 29,
     "metadata": {},
     "output_type": "execute_result"
    }
   ],
   "source": [
    "# 读取一个 wind \n",
    "ds_xr.isel(time=1)['x_wind']"
   ]
  },
  {
   "cell_type": "markdown",
   "metadata": {},
   "source": [
    "### 1- 尝试将xarray转为series"
   ]
  },
  {
   "cell_type": "markdown",
   "metadata": {},
   "source": [
    "## 2 剔除掉nan的数据，只获取有效数据"
   ]
  },
  {
   "cell_type": "markdown",
   "metadata": {},
   "source": [
    "#### 查看不同时刻的\n",
    "并通过`where`剔除掉大于`max`以及`nan`的值  \n",
    "使用xarray的dropna方法，注意与pandas中的方法有所区别"
   ]
  },
  {
   "cell_type": "markdown",
   "metadata": {},
   "source": [
    "提示错误：\n",
    "`ValueError: any must be a single dataset dimension`  \n",
    "查看文档后发现`xarray.Dataset.dropna`尚不支持同时沿多个维度放置  \n",
    "\n",
    "[参考](http://xarray.pydata.org/en/stable/generated/xarray.Dataset.dropna.html)  \n",
    "\n",
    "考虑将xarray转换为dateframe，然后再清洗？  \n",
    "[上网参考](https://stackoverflow.com/questions/52553925/python-xarray-remove-coordinates-with-all-missing-variables)\n",
    "比较好的解决办法是：\n",
    "1. 将`DataSet`->`DataFrame`\n",
    "2. 在`DataFrame`中通过`pandas` `dropna` 即可"
   ]
  },
  {
   "cell_type": "code",
   "execution_count": 52,
   "metadata": {},
   "outputs": [
    {
     "data": {
      "text/html": [
       "<pre>&lt;xarray.DataArray &#x27;x_wind&#x27; (trajectory: 2958)&gt;\n",
       "array([ 9.969210e+36, -2.856885e+00,  9.969210e+36, ...,  9.969210e+36,\n",
       "        9.969210e+36,  9.969210e+36], dtype=float32)\n",
       "Coordinates:\n",
       "  * trajectory  (trajectory) int32 1 2 3 4 5 6 ... 2953 2954 2955 2956 2957 2958\n",
       "    time        datetime64[ns] 2018-01-16T04:20:00\n",
       "    lon         (trajectory) float32 ...\n",
       "    lat         (trajectory) float32 ...</pre>"
      ],
      "text/plain": [
       "<xarray.DataArray 'x_wind' (trajectory: 2958)>\n",
       "array([ 9.969210e+36, -2.856885e+00,  9.969210e+36, ...,  9.969210e+36,\n",
       "        9.969210e+36,  9.969210e+36], dtype=float32)\n",
       "Coordinates:\n",
       "  * trajectory  (trajectory) int32 1 2 3 4 5 6 ... 2953 2954 2955 2956 2957 2958\n",
       "    time        datetime64[ns] 2018-01-16T04:20:00\n",
       "    lon         (trajectory) float32 ...\n",
       "    lat         (trajectory) float32 ..."
      ]
     },
     "execution_count": 52,
     "metadata": {},
     "output_type": "execute_result"
    }
   ],
   "source": [
    "xr_temp=ds_xr.isel(time=30)['x_wind']\n",
    "xr_temp"
   ]
  },
  {
   "cell_type": "code",
   "execution_count": 44,
   "metadata": {},
   "outputs": [],
   "source": [
    "#xr_temp.where(xr_temp<=2000).dropna(dim='any')"
   ]
  },
  {
   "cell_type": "code",
   "execution_count": 53,
   "metadata": {
    "scrolled": true
   },
   "outputs": [
    {
     "data": {
      "text/html": [
       "<div>\n",
       "<style scoped>\n",
       "    .dataframe tbody tr th:only-of-type {\n",
       "        vertical-align: middle;\n",
       "    }\n",
       "\n",
       "    .dataframe tbody tr th {\n",
       "        vertical-align: top;\n",
       "    }\n",
       "\n",
       "    .dataframe thead th {\n",
       "        text-align: right;\n",
       "    }\n",
       "</style>\n",
       "<table border=\"1\" class=\"dataframe\">\n",
       "  <thead>\n",
       "    <tr style=\"text-align: right;\">\n",
       "      <th></th>\n",
       "      <th>time</th>\n",
       "      <th>lon</th>\n",
       "      <th>lat</th>\n",
       "      <th>x_wind</th>\n",
       "    </tr>\n",
       "    <tr>\n",
       "      <th>trajectory</th>\n",
       "      <th></th>\n",
       "      <th></th>\n",
       "      <th></th>\n",
       "      <th></th>\n",
       "    </tr>\n",
       "  </thead>\n",
       "  <tbody>\n",
       "    <tr>\n",
       "      <th>1</th>\n",
       "      <td>2018-01-16 04:20:00</td>\n",
       "      <td>9.969210e+36</td>\n",
       "      <td>9.969210e+36</td>\n",
       "      <td>NaN</td>\n",
       "    </tr>\n",
       "    <tr>\n",
       "      <th>2</th>\n",
       "      <td>2018-01-16 04:20:00</td>\n",
       "      <td>1.258521e+02</td>\n",
       "      <td>2.850434e+01</td>\n",
       "      <td>-2.856885</td>\n",
       "    </tr>\n",
       "    <tr>\n",
       "      <th>3</th>\n",
       "      <td>2018-01-16 04:20:00</td>\n",
       "      <td>9.969210e+36</td>\n",
       "      <td>9.969210e+36</td>\n",
       "      <td>NaN</td>\n",
       "    </tr>\n",
       "    <tr>\n",
       "      <th>4</th>\n",
       "      <td>2018-01-16 04:20:00</td>\n",
       "      <td>1.258375e+02</td>\n",
       "      <td>2.853567e+01</td>\n",
       "      <td>-3.510324</td>\n",
       "    </tr>\n",
       "    <tr>\n",
       "      <th>5</th>\n",
       "      <td>2018-01-16 04:20:00</td>\n",
       "      <td>1.257466e+02</td>\n",
       "      <td>2.853434e+01</td>\n",
       "      <td>-3.477507</td>\n",
       "    </tr>\n",
       "  </tbody>\n",
       "</table>\n",
       "</div>"
      ],
      "text/plain": [
       "                          time           lon           lat    x_wind\n",
       "trajectory                                                          \n",
       "1          2018-01-16 04:20:00  9.969210e+36  9.969210e+36       NaN\n",
       "2          2018-01-16 04:20:00  1.258521e+02  2.850434e+01 -2.856885\n",
       "3          2018-01-16 04:20:00  9.969210e+36  9.969210e+36       NaN\n",
       "4          2018-01-16 04:20:00  1.258375e+02  2.853567e+01 -3.510324\n",
       "5          2018-01-16 04:20:00  1.257466e+02  2.853434e+01 -3.477507"
      ]
     },
     "execution_count": 53,
     "metadata": {},
     "output_type": "execute_result"
    }
   ],
   "source": [
    "# 将xarray转成df\n",
    "xr_temp.where(xr_temp<2000).to_dataframe().head()"
   ]
  },
  {
   "cell_type": "markdown",
   "metadata": {},
   "source": [
    "* 这么看此种方式比较可行"
   ]
  },
  {
   "cell_type": "code",
   "execution_count": 54,
   "metadata": {},
   "outputs": [],
   "source": [
    "xr_final=xr_temp.where(xr_temp<2000).to_dataframe().dropna(how='any')"
   ]
  },
  {
   "cell_type": "code",
   "execution_count": 55,
   "metadata": {},
   "outputs": [
    {
     "data": {
      "text/plain": [
       "(901, 4)"
      ]
     },
     "execution_count": 55,
     "metadata": {},
     "output_type": "execute_result"
    }
   ],
   "source": [
    "\n"
   ]
  },
  {
   "cell_type": "code",
   "execution_count": null,
   "metadata": {},
   "outputs": [],
   "source": []
  }
 ],
 "metadata": {
  "kernelspec": {
   "display_name": "Python 3",
   "language": "python",
   "name": "python3"
  },
  "language_info": {
   "codemirror_mode": {
    "name": "ipython",
    "version": 3
   },
   "file_extension": ".py",
   "mimetype": "text/x-python",
   "name": "python",
   "nbconvert_exporter": "python",
   "pygments_lexer": "ipython3",
   "version": "3.7.3"
  }
 },
 "nbformat": 4,
 "nbformat_minor": 2
}
