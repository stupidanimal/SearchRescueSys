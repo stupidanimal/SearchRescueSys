{
 "cells": [
  {
   "cell_type": "code",
   "execution_count": 1,
   "metadata": {},
   "outputs": [],
   "source": [
    "import netCDF4 as nc4\n",
    "import numpy as np"
   ]
  },
  {
   "cell_type": "code",
   "execution_count": 2,
   "metadata": {},
   "outputs": [],
   "source": [
    "file_path='./data/ecs_curr_20160722_opdr.nc'"
   ]
  },
  {
   "cell_type": "code",
   "execution_count": 3,
   "metadata": {},
   "outputs": [],
   "source": [
    "file_obj=nc4.Dataset(file_path)"
   ]
  },
  {
   "cell_type": "code",
   "execution_count": 4,
   "metadata": {},
   "outputs": [
    {
     "data": {
      "text/plain": [
       "<class 'netCDF4._netCDF4.Dataset'>\n",
       "root group (NETCDF3_CLASSIC data model, file format NETCDF3):\n",
       "    dimensions(sizes): lon(564), lat(565), time(145), z(1)\n",
       "    variables(dimensions): float32 \u001b[4mlon\u001b[0m(lon), float32 \u001b[4mlat\u001b[0m(lat), float32 \u001b[4mtime\u001b[0m(time), float32 \u001b[4mu\u001b[0m(time,z,lat,lon), float32 \u001b[4mv\u001b[0m(time,z,lat,lon)\n",
       "    groups: "
      ]
     },
     "execution_count": 4,
     "metadata": {},
     "output_type": "execute_result"
    }
   ],
   "source": [
    "file_obj"
   ]
  },
  {
   "cell_type": "markdown",
   "metadata": {},
   "source": [
    "快速获取对象中存储的变量名称"
   ]
  },
  {
   "cell_type": "code",
   "execution_count": 7,
   "metadata": {},
   "outputs": [
    {
     "data": {
      "text/plain": [
       "odict_keys(['lon', 'lat', 'time', 'u', 'v'])"
      ]
     },
     "execution_count": 7,
     "metadata": {},
     "output_type": "execute_result"
    }
   ],
   "source": [
    "file_obj.variables.keys()"
   ]
  },
  {
   "cell_type": "markdown",
   "metadata": {},
   "source": [
    "查看具体变量的属性信息"
   ]
  },
  {
   "cell_type": "code",
   "execution_count": 9,
   "metadata": {},
   "outputs": [
    {
     "data": {
      "text/plain": [
       "<class 'netCDF4._netCDF4.Variable'>\n",
       "float32 u(time, z, lat, lon)\n",
       "    long_name: Eastward Water Velocity\n",
       "    units: meters s-1\n",
       "    standard_name: x_sea_water_velocity\n",
       "unlimited dimensions: time\n",
       "current shape = (145, 1, 565, 564)\n",
       "filling on, default _FillValue of 9.969209968386869e+36 used"
      ]
     },
     "execution_count": 9,
     "metadata": {},
     "output_type": "execute_result"
    }
   ],
   "source": [
    "temp_u=file_obj.variables['u']\n",
    "temp_u"
   ]
  },
  {
   "cell_type": "markdown",
   "metadata": {},
   "source": [
    "读取某个变量的全部值"
   ]
  },
  {
   "cell_type": "code",
   "execution_count": 11,
   "metadata": {},
   "outputs": [],
   "source": [
    "arr_u=temp_u[:]"
   ]
  },
  {
   "cell_type": "code",
   "execution_count": 12,
   "metadata": {},
   "outputs": [
    {
     "data": {
      "text/plain": [
       "(145, 1, 565, 564)"
      ]
     },
     "execution_count": 12,
     "metadata": {},
     "output_type": "execute_result"
    }
   ],
   "source": [
    "arr_u.shape"
   ]
  },
  {
   "cell_type": "code",
   "execution_count": 13,
   "metadata": {},
   "outputs": [
    {
     "data": {
      "text/plain": [
       "masked_array(\n",
       "  data=[[[       nan,        nan, 0.25269002, ..., 0.01723434,\n",
       "          0.0066567 , 0.0066567 ],\n",
       "         [       nan,        nan, 0.26732552, ..., 0.03419475,\n",
       "          0.01569649, 0.01569649],\n",
       "         [       nan,        nan,        nan, ..., 0.0429806 ,\n",
       "          0.02525122, 0.02525122],\n",
       "         ...,\n",
       "         [       nan,        nan,        nan, ..., 0.13745973,\n",
       "          0.13175009, 0.13175009],\n",
       "         [       nan,        nan,        nan, ..., 0.11766902,\n",
       "          0.10676598, 0.10676598],\n",
       "         [       nan,        nan,        nan, ..., 0.11001509,\n",
       "          0.10186194, 0.10186194]]],\n",
       "  mask=False,\n",
       "  fill_value=1e+20,\n",
       "  dtype=float32)"
      ]
     },
     "execution_count": 13,
     "metadata": {},
     "output_type": "execute_result"
    }
   ],
   "source": [
    "arr_u[0]"
   ]
  },
  {
   "cell_type": "code",
   "execution_count": null,
   "metadata": {},
   "outputs": [],
   "source": []
  }
 ],
 "metadata": {
  "kernelspec": {
   "display_name": "Python 3",
   "language": "python",
   "name": "python3"
  },
  "language_info": {
   "codemirror_mode": {
    "name": "ipython",
    "version": 3
   },
   "file_extension": ".py",
   "mimetype": "text/x-python",
   "name": "python",
   "nbconvert_exporter": "python",
   "pygments_lexer": "ipython3",
   "version": "3.7.3"
  }
 },
 "nbformat": 4,
 "nbformat_minor": 2
}
