{
 "cells": [
  {
   "cell_type": "code",
   "execution_count": 2,
   "metadata": {},
   "outputs": [
    {
     "name": "stderr",
     "output_type": "stream",
     "text": [
      "ERROR:root:An unexpected error occurred while tokenizing input\n",
      "The following traceback may be corrupted or invalid\n",
      "The error message is: ('EOF in multi-line string', (1, 0))\n",
      "\n"
     ]
    },
    {
     "ename": "RuntimeError",
     "evalue": "\n\nAmbiguous 'iris' package.\nPlease use either:\n  illumon-iris - Python integration for Illumon Iris, a time-series database\n     - pip install illumon-iris\n     - https://pypi.python.org/pypi/illumon-iris\n     - https://www.illumon.com/\n\n  SciTools Iris - Python library for analysing and visualising meteorological and oceanographic data sets\n    - http://scitools.org.uk/iris/\n\n  info.gianlucacosta.iris - A general-purpose library for Python\n    - pip install info.gianlucacosta.iris\n    - https://pypi.python.org/pypi/info.gianlucacosta.iris\n\n",
     "output_type": "error",
     "traceback": [
      "\u001b[1;31m---------------------------------------------------------------------------\u001b[0m",
      "\u001b[1;31mRuntimeError\u001b[0m                              Traceback (most recent call last)",
      "\u001b[1;32m<ipython-input-2-5a1287f10e62>\u001b[0m in \u001b[0;36m<module>\u001b[1;34m()\u001b[0m\n\u001b[1;32m----> 1\u001b[1;33m \u001b[1;32mimport\u001b[0m \u001b[0miris\u001b[0m\u001b[1;33m\u001b[0m\u001b[0m\n\u001b[0m\u001b[0;32m      2\u001b[0m \u001b[1;32mimport\u001b[0m \u001b[0miris\u001b[0m\u001b[1;33m.\u001b[0m\u001b[0mplot\u001b[0m \u001b[1;32mas\u001b[0m \u001b[0miplt\u001b[0m\u001b[1;33m\u001b[0m\u001b[0m\n\u001b[0;32m      3\u001b[0m \u001b[1;32mimport\u001b[0m \u001b[0mcartopy\u001b[0m\u001b[1;33m.\u001b[0m\u001b[0mcrs\u001b[0m \u001b[1;32mas\u001b[0m \u001b[0mccrs\u001b[0m\u001b[1;33m\u001b[0m\u001b[0m\n",
      "\u001b[1;32mC:\\Python27\\lib\\site-packages\\iris\\__init__.py\u001b[0m in \u001b[0;36m<module>\u001b[1;34m()\u001b[0m\n\u001b[0;32m     16\u001b[0m     \u001b[1;33m-\u001b[0m \u001b[0mhttps\u001b[0m\u001b[1;33m:\u001b[0m\u001b[1;33m//\u001b[0m\u001b[0mpypi\u001b[0m\u001b[1;33m.\u001b[0m\u001b[0mpython\u001b[0m\u001b[1;33m.\u001b[0m\u001b[0morg\u001b[0m\u001b[1;33m/\u001b[0m\u001b[0mpypi\u001b[0m\u001b[1;33m/\u001b[0m\u001b[0minfo\u001b[0m\u001b[1;33m.\u001b[0m\u001b[0mgianlucacosta\u001b[0m\u001b[1;33m.\u001b[0m\u001b[0miris\u001b[0m\u001b[1;33m\u001b[0m\u001b[0m\n\u001b[0;32m     17\u001b[0m \u001b[1;33m\u001b[0m\u001b[0m\n\u001b[1;32m---> 18\u001b[1;33m \"\"\")\n\u001b[0m",
      "\u001b[1;31mRuntimeError\u001b[0m: \n\nAmbiguous 'iris' package.\nPlease use either:\n  illumon-iris - Python integration for Illumon Iris, a time-series database\n     - pip install illumon-iris\n     - https://pypi.python.org/pypi/illumon-iris\n     - https://www.illumon.com/\n\n  SciTools Iris - Python library for analysing and visualising meteorological and oceanographic data sets\n    - http://scitools.org.uk/iris/\n\n  info.gianlucacosta.iris - A general-purpose library for Python\n    - pip install info.gianlucacosta.iris\n    - https://pypi.python.org/pypi/info.gianlucacosta.iris\n\n"
     ]
    }
   ],
   "source": [
    "import iris\n",
    "import iris.plot as iplt\n",
    "import cartopy.crs as ccrs"
   ]
  },
  {
   "cell_type": "code",
   "execution_count": null,
   "metadata": {},
   "outputs": [],
   "source": []
  }
 ],
 "metadata": {
  "kernelspec": {
   "display_name": "venv2.7",
   "language": "python",
   "name": "venv2.7"
  },
  "language_info": {
   "codemirror_mode": {
    "name": "ipython",
    "version": 2
   },
   "file_extension": ".py",
   "mimetype": "text/x-python",
   "name": "python",
   "nbconvert_exporter": "python",
   "pygments_lexer": "ipython2",
   "version": "2.7.14"
  }
 },
 "nbformat": 4,
 "nbformat_minor": 2
}
